{
 "cells": [
  {
   "cell_type": "code",
   "execution_count": 1,
   "metadata": {},
   "outputs": [],
   "source": [
    "import pandas as pd\n",
    "import json\n",
    "\n",
    "def json_to_dataframe(json_file_path):\n",
    "    try:\n",
    "        # Read JSON file\n",
    "        with open(json_file_path, 'r') as file:\n",
    "            data = json.load(file)\n",
    "        \n",
    "        # Convert to pandas DataFrame\n",
    "        df = pd.DataFrame(data)\n",
    "        \n",
    "        return df\n",
    "    \n",
    "    except FileNotFoundError:\n",
    "        print(f\"Error: File '{json_file_path}' not found\")\n",
    "        return None\n",
    "    except json.JSONDecodeError:\n",
    "        print(\"Error: Invalid JSON format\")\n",
    "        return None\n",
    "    except Exception as e:\n",
    "        print(f\"Error: {str(e)}\")\n",
    "        return None\n"
   ]
  },
  {
   "cell_type": "code",
   "execution_count": 23,
   "metadata": {},
   "outputs": [],
   "source": [
    "# Example usage\n",
    "file_path = 'weather_data.json'\n",
    "df = json_to_dataframe(file_path)"
   ]
  },
  {
   "cell_type": "code",
   "execution_count": 30,
   "metadata": {},
   "outputs": [
    {
     "name": "stdout",
     "output_type": "stream",
     "text": [
      "<class 'pandas.core.frame.DataFrame'>\n",
      "RangeIndex: 2177 entries, 0 to 2176\n",
      "Data columns (total 11 columns):\n",
      " #   Column         Non-Null Count  Dtype  \n",
      "---  ------         --------------  -----  \n",
      " 0   lat            2177 non-null   float64\n",
      " 1   lon            2177 non-null   float64\n",
      " 2   tz             2177 non-null   object \n",
      " 3   date           2177 non-null   object \n",
      " 4   units          2177 non-null   object \n",
      " 5   cloud_cover    2177 non-null   object \n",
      " 6   humidity       2177 non-null   object \n",
      " 7   precipitation  2177 non-null   object \n",
      " 8   temperature    2177 non-null   object \n",
      " 9   pressure       2177 non-null   object \n",
      " 10  wind           2177 non-null   object \n",
      "dtypes: float64(2), object(9)\n",
      "memory usage: 187.2+ KB\n"
     ]
    }
   ],
   "source": [
    "df.info()"
   ]
  },
  {
   "cell_type": "code",
   "execution_count": 26,
   "metadata": {},
   "outputs": [],
   "source": [
    "df_start=json_to_dataframe('weather_data_test.json')"
   ]
  },
  {
   "cell_type": "code",
   "execution_count": 28,
   "metadata": {},
   "outputs": [],
   "source": [
    "final_df = pd.concat([df_start, df], axis=0, ignore_index=True)"
   ]
  },
  {
   "cell_type": "code",
   "execution_count": 32,
   "metadata": {},
   "outputs": [
    {
     "data": {
      "text/html": [
       "<div>\n",
       "<style scoped>\n",
       "    .dataframe tbody tr th:only-of-type {\n",
       "        vertical-align: middle;\n",
       "    }\n",
       "\n",
       "    .dataframe tbody tr th {\n",
       "        vertical-align: top;\n",
       "    }\n",
       "\n",
       "    .dataframe thead th {\n",
       "        text-align: right;\n",
       "    }\n",
       "</style>\n",
       "<table border=\"1\" class=\"dataframe\">\n",
       "  <thead>\n",
       "    <tr style=\"text-align: right;\">\n",
       "      <th></th>\n",
       "      <th>lat</th>\n",
       "      <th>lon</th>\n",
       "      <th>tz</th>\n",
       "      <th>date</th>\n",
       "      <th>units</th>\n",
       "      <th>cloud_cover</th>\n",
       "      <th>humidity</th>\n",
       "      <th>precipitation</th>\n",
       "      <th>temperature</th>\n",
       "      <th>pressure</th>\n",
       "      <th>wind</th>\n",
       "    </tr>\n",
       "  </thead>\n",
       "  <tbody>\n",
       "    <tr>\n",
       "      <th>0</th>\n",
       "      <td>29.18483</td>\n",
       "      <td>71.49811</td>\n",
       "      <td>+05:00</td>\n",
       "      <td>2019-01-01</td>\n",
       "      <td>standard</td>\n",
       "      <td>{'afternoon': 4.0}</td>\n",
       "      <td>{'afternoon': 57.0}</td>\n",
       "      <td>{'total': 0.0}</td>\n",
       "      <td>{'min': 280.29, 'max': 295.09, 'afternoon': 29...</td>\n",
       "      <td>{'afternoon': 1020.0}</td>\n",
       "      <td>{'max': {'speed': 3.15, 'direction': 198.0}}</td>\n",
       "    </tr>\n",
       "    <tr>\n",
       "      <th>1</th>\n",
       "      <td>29.18483</td>\n",
       "      <td>71.49811</td>\n",
       "      <td>+05:00</td>\n",
       "      <td>2019-01-02</td>\n",
       "      <td>standard</td>\n",
       "      <td>{'afternoon': 0.0}</td>\n",
       "      <td>{'afternoon': 60.0}</td>\n",
       "      <td>{'total': 0.0}</td>\n",
       "      <td>{'min': 281.4, 'max': 294.65, 'afternoon': 290...</td>\n",
       "      <td>{'afternoon': 1022.0}</td>\n",
       "      <td>{'max': {'speed': 3.02, 'direction': 6.0}}</td>\n",
       "    </tr>\n",
       "    <tr>\n",
       "      <th>2</th>\n",
       "      <td>29.18483</td>\n",
       "      <td>71.49811</td>\n",
       "      <td>+05:00</td>\n",
       "      <td>2019-01-03</td>\n",
       "      <td>standard</td>\n",
       "      <td>{'afternoon': 88.0}</td>\n",
       "      <td>{'afternoon': 69.0}</td>\n",
       "      <td>{'total': 0.0}</td>\n",
       "      <td>{'min': 281.24, 'max': 292.79, 'afternoon': 28...</td>\n",
       "      <td>{'afternoon': 1025.0}</td>\n",
       "      <td>{'max': {'speed': 2.65, 'direction': 14.0}}</td>\n",
       "    </tr>\n",
       "    <tr>\n",
       "      <th>3</th>\n",
       "      <td>29.18483</td>\n",
       "      <td>71.49811</td>\n",
       "      <td>+05:00</td>\n",
       "      <td>2019-01-04</td>\n",
       "      <td>standard</td>\n",
       "      <td>{'afternoon': 94.0}</td>\n",
       "      <td>{'afternoon': 67.0}</td>\n",
       "      <td>{'total': 0.0}</td>\n",
       "      <td>{'min': 282.02, 'max': 291.93, 'afternoon': 28...</td>\n",
       "      <td>{'afternoon': 1020.0}</td>\n",
       "      <td>{'max': {'speed': 2.23, 'direction': 107.0}}</td>\n",
       "    </tr>\n",
       "    <tr>\n",
       "      <th>4</th>\n",
       "      <td>29.18483</td>\n",
       "      <td>71.49811</td>\n",
       "      <td>+05:00</td>\n",
       "      <td>2019-01-05</td>\n",
       "      <td>standard</td>\n",
       "      <td>{'afternoon': 5.0}</td>\n",
       "      <td>{'afternoon': 65.0}</td>\n",
       "      <td>{'total': 0.0}</td>\n",
       "      <td>{'min': 281.86, 'max': 292.92, 'afternoon': 29...</td>\n",
       "      <td>{'afternoon': 1019.0}</td>\n",
       "      <td>{'max': {'speed': 5.07, 'direction': 8.0}}</td>\n",
       "    </tr>\n",
       "  </tbody>\n",
       "</table>\n",
       "</div>"
      ],
      "text/plain": [
       "        lat       lon      tz        date     units          cloud_cover  \\\n",
       "0  29.18483  71.49811  +05:00  2019-01-01  standard   {'afternoon': 4.0}   \n",
       "1  29.18483  71.49811  +05:00  2019-01-02  standard   {'afternoon': 0.0}   \n",
       "2  29.18483  71.49811  +05:00  2019-01-03  standard  {'afternoon': 88.0}   \n",
       "3  29.18483  71.49811  +05:00  2019-01-04  standard  {'afternoon': 94.0}   \n",
       "4  29.18483  71.49811  +05:00  2019-01-05  standard   {'afternoon': 5.0}   \n",
       "\n",
       "              humidity   precipitation  \\\n",
       "0  {'afternoon': 57.0}  {'total': 0.0}   \n",
       "1  {'afternoon': 60.0}  {'total': 0.0}   \n",
       "2  {'afternoon': 69.0}  {'total': 0.0}   \n",
       "3  {'afternoon': 67.0}  {'total': 0.0}   \n",
       "4  {'afternoon': 65.0}  {'total': 0.0}   \n",
       "\n",
       "                                         temperature               pressure  \\\n",
       "0  {'min': 280.29, 'max': 295.09, 'afternoon': 29...  {'afternoon': 1020.0}   \n",
       "1  {'min': 281.4, 'max': 294.65, 'afternoon': 290...  {'afternoon': 1022.0}   \n",
       "2  {'min': 281.24, 'max': 292.79, 'afternoon': 28...  {'afternoon': 1025.0}   \n",
       "3  {'min': 282.02, 'max': 291.93, 'afternoon': 28...  {'afternoon': 1020.0}   \n",
       "4  {'min': 281.86, 'max': 292.92, 'afternoon': 29...  {'afternoon': 1019.0}   \n",
       "\n",
       "                                           wind  \n",
       "0  {'max': {'speed': 3.15, 'direction': 198.0}}  \n",
       "1    {'max': {'speed': 3.02, 'direction': 6.0}}  \n",
       "2   {'max': {'speed': 2.65, 'direction': 14.0}}  \n",
       "3  {'max': {'speed': 2.23, 'direction': 107.0}}  \n",
       "4    {'max': {'speed': 5.07, 'direction': 8.0}}  "
      ]
     },
     "execution_count": 32,
     "metadata": {},
     "output_type": "execute_result"
    }
   ],
   "source": [
    "final_df.head()"
   ]
  },
  {
   "cell_type": "code",
   "execution_count": 35,
   "metadata": {},
   "outputs": [
    {
     "data": {
      "text/plain": [
       "units\n",
       "standard    2179\n",
       "Name: count, dtype: int64"
      ]
     },
     "execution_count": 35,
     "metadata": {},
     "output_type": "execute_result"
    }
   ],
   "source": [
    "final_df.units.value_counts()"
   ]
  },
  {
   "cell_type": "code",
   "execution_count": 33,
   "metadata": {},
   "outputs": [],
   "source": [
    "final_df.to_csv('openweathermap_data.csv', index=False)"
   ]
  },
  {
   "cell_type": "code",
   "execution_count": 36,
   "metadata": {},
   "outputs": [
    {
     "data": {
      "text/plain": [
       "{'min': 280.29,\n",
       " 'max': 295.09,\n",
       " 'afternoon': 291.55,\n",
       " 'night': 283.42,\n",
       " 'evening': 293.04,\n",
       " 'morning': 280.29}"
      ]
     },
     "execution_count": 36,
     "metadata": {},
     "output_type": "execute_result"
    }
   ],
   "source": [
    "final_df.temperature[0]"
   ]
  }
 ],
 "metadata": {
  "kernelspec": {
   "display_name": "venv",
   "language": "python",
   "name": "python3"
  },
  "language_info": {
   "codemirror_mode": {
    "name": "ipython",
    "version": 3
   },
   "file_extension": ".py",
   "mimetype": "text/x-python",
   "name": "python",
   "nbconvert_exporter": "python",
   "pygments_lexer": "ipython3",
   "version": "3.12.2"
  }
 },
 "nbformat": 4,
 "nbformat_minor": 2
}
