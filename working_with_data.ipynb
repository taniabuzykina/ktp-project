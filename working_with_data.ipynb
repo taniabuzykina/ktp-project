{
 "cells": [
  {
   "cell_type": "markdown",
   "metadata": {
    "vscode": {
     "languageId": "plaintext"
    }
   },
   "source": [
    "Handling missing irrigation data"
   ]
  },
  {
   "cell_type": "markdown",
   "metadata": {},
   "source": [
    "Proxy approach\n",
    "- Calculate NDMI changes between consecutive readings\n",
    "- Set thresholds for significant moisture changes\n",
    "- Identify patterns that don't align with precipitation events\n",
    "- These misalignments likely indicate irrigation events"
   ]
  },
  {
   "cell_type": "code",
   "execution_count": 12,
   "metadata": {},
   "outputs": [],
   "source": [
    "import rasterio\n",
    "import numpy as np\n",
    "import pandas as pd\n",
    "from datetime import datetime\n",
    "import glob\n",
    "import os\n",
    "\n",
    "# Read all NDMI files in chronological order\n",
    "def read_tif_files(directory_path):\n",
    "    # Get all TIF files\n",
    "    tif_files = glob.glob(os.path.join(directory_path, '*NDMI*.tif'))\n",
    "    \n",
    "    # Extract dates from filenames \n",
    "    dates = [os.path.basename(f).split('_to')[0].strip('NDMI_') for f in tif_files] \n",
    "    \n",
    "    # Sort files by date\n",
    "    sorted_files = sorted(zip(dates, tif_files))\n",
    "    \n",
    "    # Store data in a dictionary\n",
    "    ndmi_data = {}\n",
    "    for date, file in sorted_files:\n",
    "        with rasterio.open(file) as src:\n",
    "            ndmi_data[date] = src.read(1)  # Read the first band\n",
    "            \n",
    "    return ndmi_data, src.meta"
   ]
  },
  {
   "cell_type": "code",
   "execution_count": 13,
   "metadata": {},
   "outputs": [],
   "source": [
    "def calculate_ndmi_changes(ndmi_data):\n",
    "    dates = sorted(ndmi_data.keys())\n",
    "    ndmi_changes = {}\n",
    "    \n",
    "    for i in range(1, len(dates)):\n",
    "        current_date = dates[i]\n",
    "        previous_date = dates[i-1]\n",
    "        \n",
    "        change = ndmi_data[current_date] - ndmi_data[previous_date]\n",
    "        ndmi_changes[current_date] = change\n",
    "    \n",
    "    return ndmi_changes"
   ]
  },
  {
   "cell_type": "code",
   "execution_count": null,
   "metadata": {},
   "outputs": [],
   "source": [
    "def identify_irrigation_events(ndmi_changes, precipitation_data, threshold=0.1):\n",
    "    irrigation_events = {}\n",
    "    \n",
    "    for date, change in ndmi_changes.items():\n",
    "        # Get precipitation for this date\n",
    "        precip = precipitation_data.get(date, 0)\n",
    "        \n",
    "        # Create a mask for significant positive changes\n",
    "        significant_increase = change > threshold\n",
    "        \n",
    "        if precip < 5:  # Assuming less than 5mm rain is negligible\n",
    "            irrigation_mask = significant_increase\n",
    "            \n",
    "            irrigation_amount = change[irrigation_mask] * 100  # Convert NDMI change to mm of water\n",
    "            \n",
    "            irrigation_events[date] = {\n",
    "                'area_irrigated': np.sum(irrigation_mask),\n",
    "                'average_amount': np.mean(irrigation_amount) if len(irrigation_amount) > 0 else 0\n",
    "            }\n",
    "    \n",
    "    return irrigation_events"
   ]
  }
 ],
 "metadata": {
  "kernelspec": {
   "display_name": "venv",
   "language": "python",
   "name": "python3"
  },
  "language_info": {
   "codemirror_mode": {
    "name": "ipython",
    "version": 3
   },
   "file_extension": ".py",
   "mimetype": "text/x-python",
   "name": "python",
   "nbconvert_exporter": "python",
   "pygments_lexer": "ipython3",
   "version": "3.12.2"
  }
 },
 "nbformat": 4,
 "nbformat_minor": 2
}
