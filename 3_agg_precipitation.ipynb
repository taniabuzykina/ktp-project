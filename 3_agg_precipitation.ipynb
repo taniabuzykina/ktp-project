{
 "cells": [
  {
   "cell_type": "code",
   "execution_count": 3,
   "metadata": {},
   "outputs": [],
   "source": [
    "import pandas as pd\n",
    "import os\n",
    "from datetime import datetime\n"
   ]
  },
  {
   "cell_type": "code",
   "execution_count": 4,
   "metadata": {},
   "outputs": [],
   "source": [
    "ndmi_dir = 'data/NDMI_Weekly_Exports/NDMI_Weekly_Exports_2019_2024'"
   ]
  },
  {
   "cell_type": "code",
   "execution_count": 5,
   "metadata": {},
   "outputs": [],
   "source": [
    "df = pd.read_csv('openweathermap_data.csv')\n",
    "df['precipitation_value'] = df['precipitation'].str.extract(r\"'total': ([\\d.]+)\").astype(float)"
   ]
  },
  {
   "cell_type": "code",
   "execution_count": 6,
   "metadata": {},
   "outputs": [],
   "source": [
    "df['date'] = pd.to_datetime(df['date'])"
   ]
  },
  {
   "cell_type": "code",
   "execution_count": 7,
   "metadata": {},
   "outputs": [],
   "source": [
    "def calculate_precipitation_sums(df, tiff_folder):\n",
    "    # Get list of TIFF files\n",
    "    tiff_files = [f for f in os.listdir(tiff_folder) if f.endswith('.tif')]\n",
    "    \n",
    "    results = []\n",
    "    \n",
    "    for tiff_file in tiff_files:\n",
    "        # Extract dates from filename\n",
    "        dates = tiff_file.replace('NDMI_', '').replace('.tif', '').split('_to_')\n",
    "        start_date = datetime.strptime(dates[0], '%Y-%m-%d')\n",
    "        end_date = datetime.strptime(dates[1], '%Y-%m-%d')\n",
    "        \n",
    "        # Get precipitation sum for date range\n",
    "        mask = (df.date >= start_date) & (df.date <= end_date)\n",
    "        precip_sum = df.loc[mask, 'precipitation_value'].sum()\n",
    "        \n",
    "        results.append({\n",
    "            'tiff_file': tiff_file,\n",
    "            'start_date': start_date,\n",
    "            'end_date': end_date,\n",
    "            'precipitation_sum': precip_sum\n",
    "        })\n",
    "    \n",
    "    # Create new dataframe with results\n",
    "    result_df = pd.DataFrame(results)\n",
    "    return result_df"
   ]
  },
  {
   "cell_type": "code",
   "execution_count": 8,
   "metadata": {},
   "outputs": [],
   "source": [
    "result_df = calculate_precipitation_sums(df, ndmi_dir)\n",
    "result_df.to_csv('precipitation_sums.csv', index=False)"
   ]
  },
  {
   "cell_type": "code",
   "execution_count": 9,
   "metadata": {},
   "outputs": [
    {
     "data": {
      "text/html": [
       "<div>\n",
       "<style scoped>\n",
       "    .dataframe tbody tr th:only-of-type {\n",
       "        vertical-align: middle;\n",
       "    }\n",
       "\n",
       "    .dataframe tbody tr th {\n",
       "        vertical-align: top;\n",
       "    }\n",
       "\n",
       "    .dataframe thead th {\n",
       "        text-align: right;\n",
       "    }\n",
       "</style>\n",
       "<table border=\"1\" class=\"dataframe\">\n",
       "  <thead>\n",
       "    <tr style=\"text-align: right;\">\n",
       "      <th></th>\n",
       "      <th>tiff_file</th>\n",
       "      <th>start_date</th>\n",
       "      <th>end_date</th>\n",
       "      <th>precipitation_sum</th>\n",
       "    </tr>\n",
       "  </thead>\n",
       "  <tbody>\n",
       "    <tr>\n",
       "      <th>0</th>\n",
       "      <td>NDMI_2019-01-01_to_2019-01-08.tif</td>\n",
       "      <td>2019-01-01</td>\n",
       "      <td>2019-01-08</td>\n",
       "      <td>0.00</td>\n",
       "    </tr>\n",
       "    <tr>\n",
       "      <th>1</th>\n",
       "      <td>NDMI_2019-01-15_to_2019-01-22.tif</td>\n",
       "      <td>2019-01-15</td>\n",
       "      <td>2019-01-22</td>\n",
       "      <td>5.24</td>\n",
       "    </tr>\n",
       "    <tr>\n",
       "      <th>2</th>\n",
       "      <td>NDMI_2019-02-05_to_2019-02-12.tif</td>\n",
       "      <td>2019-02-05</td>\n",
       "      <td>2019-02-12</td>\n",
       "      <td>3.60</td>\n",
       "    </tr>\n",
       "    <tr>\n",
       "      <th>3</th>\n",
       "      <td>NDMI_2019-02-12_to_2019-02-19.tif</td>\n",
       "      <td>2019-02-12</td>\n",
       "      <td>2019-02-19</td>\n",
       "      <td>0.57</td>\n",
       "    </tr>\n",
       "    <tr>\n",
       "      <th>4</th>\n",
       "      <td>NDMI_2019-02-19_to_2019-02-26.tif</td>\n",
       "      <td>2019-02-19</td>\n",
       "      <td>2019-02-26</td>\n",
       "      <td>31.26</td>\n",
       "    </tr>\n",
       "  </tbody>\n",
       "</table>\n",
       "</div>"
      ],
      "text/plain": [
       "                           tiff_file start_date   end_date  precipitation_sum\n",
       "0  NDMI_2019-01-01_to_2019-01-08.tif 2019-01-01 2019-01-08               0.00\n",
       "1  NDMI_2019-01-15_to_2019-01-22.tif 2019-01-15 2019-01-22               5.24\n",
       "2  NDMI_2019-02-05_to_2019-02-12.tif 2019-02-05 2019-02-12               3.60\n",
       "3  NDMI_2019-02-12_to_2019-02-19.tif 2019-02-12 2019-02-19               0.57\n",
       "4  NDMI_2019-02-19_to_2019-02-26.tif 2019-02-19 2019-02-26              31.26"
      ]
     },
     "execution_count": 9,
     "metadata": {},
     "output_type": "execute_result"
    }
   ],
   "source": [
    "result_df.head()"
   ]
  }
 ],
 "metadata": {
  "kernelspec": {
   "display_name": "venv",
   "language": "python",
   "name": "python3"
  },
  "language_info": {
   "codemirror_mode": {
    "name": "ipython",
    "version": 3
   },
   "file_extension": ".py",
   "mimetype": "text/x-python",
   "name": "python",
   "nbconvert_exporter": "python",
   "pygments_lexer": "ipython3",
   "version": "3.12.2"
  }
 },
 "nbformat": 4,
 "nbformat_minor": 2
}
