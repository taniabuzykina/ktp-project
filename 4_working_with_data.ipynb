{
 "cells": [
  {
   "cell_type": "markdown",
   "metadata": {
    "vscode": {
     "languageId": "plaintext"
    }
   },
   "source": [
    "Handling missing irrigation data"
   ]
  },
  {
   "cell_type": "markdown",
   "metadata": {},
   "source": [
    "Proxy approach\n",
    "- Calculate NDMI changes between consecutive readings\n",
    "- Set thresholds for significant moisture changes\n",
    "- Identify moisture spikes - check with precipitation levels"
   ]
  },
  {
   "cell_type": "code",
   "execution_count": 1,
   "metadata": {},
   "outputs": [],
   "source": [
    "import rasterio\n",
    "import numpy as np\n",
    "import pandas as pd\n",
    "from datetime import datetime\n",
    "import glob\n",
    "import os\n",
    "\n",
    "# Read all NDMI files in chronological order\n",
    "\n",
    "def read_tif_files(directory_path):\n",
    "    # Get all TIF files\n",
    "    tif_files = glob.glob(os.path.join(directory_path, '*NDMI*.tif'))\n",
    "    \n",
    "    # Store data in a dictionary with filenames as keys\n",
    "    ndmi_data = {}\n",
    "    for file in tif_files:\n",
    "        filename = os.path.basename(file)\n",
    "        with rasterio.open(file) as src:\n",
    "            ndmi_data[filename] = src.read(1)  # Read the first band\n",
    "            \n",
    "    return ndmi_data, src.meta"
   ]
  },
  {
   "cell_type": "markdown",
   "metadata": {},
   "source": [
    "Calculate changes between consecutive dates"
   ]
  },
  {
   "cell_type": "code",
   "execution_count": 2,
   "metadata": {},
   "outputs": [],
   "source": [
    "def calculate_ndmi_changes(ndmi_data, precip_df):\n",
    "    # Sort precipitation data by start_date to ensure chronological order\n",
    "    precip_df = precip_df.sort_values('start_date')\n",
    "    \n",
    "    ndmi_changes = {}\n",
    "    precip_values = {}\n",
    "    \n",
    "    # Iterate through precipitation data to get consecutive TIFF files\n",
    "    for i in range(1, len(precip_df)):\n",
    "        current_tiff = precip_df.iloc[i]['tiff_file']\n",
    "        previous_tiff = precip_df.iloc[i-1]['tiff_file']\n",
    "        \n",
    "        if current_tiff in ndmi_data and previous_tiff in ndmi_data:\n",
    "            change = ndmi_data[current_tiff] - ndmi_data[previous_tiff]\n",
    "            ndmi_changes[current_tiff] = change\n",
    "            precip_values[current_tiff] = precip_df.iloc[i]['precipitation_sum']\n",
    "    \n",
    "    return ndmi_changes, precip_values"
   ]
  },
  {
   "cell_type": "markdown",
   "metadata": {},
   "source": [
    "Identify significant moisture changes and potential irrigation events"
   ]
  },
  {
   "cell_type": "code",
   "execution_count": 3,
   "metadata": {},
   "outputs": [],
   "source": [
    "def identify_irrigation_events(ndmi_changes, precip_values, threshold=0.1):\n",
    "    irrigation_events = {}\n",
    "    \n",
    "    for tiff_file, change in ndmi_changes.items():\n",
    "        # Get precipitation for this period\n",
    "        precip = precip_values.get(tiff_file, 0)\n",
    "        \n",
    "        # Create a mask for significant positive changes\n",
    "        significant_increase = change > threshold\n",
    "        \n",
    "        # If there's a significant increase but low precipitation,\n",
    "        # it's likely an irrigation event\n",
    "        if precip < 20:  # Adjusted threshold for weekly precipitation\n",
    "            irrigation_mask = significant_increase\n",
    "            \n",
    "            # Calculate approximate irrigation amount\n",
    "            # Subtract the precipitation contribution from the NDMI change\n",
    "            # Assuming linear relationship between NDMI change and water amount\n",
    "            precipitation_contribution = precip / 100  # Convert mm to NDMI units\n",
    "            adjusted_change = change - precipitation_contribution\n",
    "            \n",
    "            # Only consider positive changes after precipitation adjustment\n",
    "            adjusted_change[adjusted_change < 0] = 0\n",
    "            \n",
    "            irrigation_amount = adjusted_change[irrigation_mask] * 100\n",
    "            \n",
    "            irrigation_events[tiff_file] = {\n",
    "                'area_irrigated_pixels': np.sum(irrigation_mask),\n",
    "                'average_amount_mm': np.mean(irrigation_amount) if len(irrigation_amount) > 0 else 0,\n",
    "                'weekly_precipitation_mm': precip\n",
    "            }\n",
    "    \n",
    "    return irrigation_events"
   ]
  },
  {
   "cell_type": "markdown",
   "metadata": {},
   "source": [
    "Load weather data and combine everything"
   ]
  },
  {
   "cell_type": "code",
   "execution_count": 4,
   "metadata": {},
   "outputs": [],
   "source": [
    "def analyze_irrigation_patterns(directory_path, precip_df):\n",
    "    # Read NDMI data\n",
    "    ndmi_data, metadata = read_tif_files(directory_path)\n",
    "    \n",
    "    # Calculate NDMI changes with precipitation data\n",
    "    ndmi_changes, precip_values = calculate_ndmi_changes(ndmi_data, precip_df)\n",
    "    \n",
    "    # Identify irrigation events\n",
    "    irrigation_events = identify_irrigation_events(ndmi_changes, precip_values)\n",
    "    \n",
    "    # Convert results to DataFrame\n",
    "    results_df = pd.DataFrame.from_dict(irrigation_events, orient='index')\n",
    "    \n",
    "    # Add dates from precipitation DataFrame\n",
    "    results_df = results_df.merge(\n",
    "        precip_df[['tiff_file', 'start_date', 'end_date']], \n",
    "        left_index=True, \n",
    "        right_on='tiff_file'\n",
    "    )\n",
    "    \n",
    "    return results_df"
   ]
  },
  {
   "cell_type": "code",
   "execution_count": 5,
   "metadata": {},
   "outputs": [],
   "source": [
    "ndmi_directory = \"data/NDMI_Weekly_Exports/NDMI_Weekly_Exports_2019_2024\"\n",
    "\n",
    "# Example of how your precipitation DataFrame might look\n",
    "precip_df = pd.read_csv(\"data/precipitation_sums.csv\")"
   ]
  },
  {
   "cell_type": "code",
   "execution_count": 6,
   "metadata": {},
   "outputs": [],
   "source": [
    "results = analyze_irrigation_patterns(ndmi_directory, precip_df)"
   ]
  },
  {
   "cell_type": "code",
   "execution_count": 7,
   "metadata": {},
   "outputs": [
    {
     "data": {
      "text/html": [
       "<div>\n",
       "<style scoped>\n",
       "    .dataframe tbody tr th:only-of-type {\n",
       "        vertical-align: middle;\n",
       "    }\n",
       "\n",
       "    .dataframe tbody tr th {\n",
       "        vertical-align: top;\n",
       "    }\n",
       "\n",
       "    .dataframe thead th {\n",
       "        text-align: right;\n",
       "    }\n",
       "</style>\n",
       "<table border=\"1\" class=\"dataframe\">\n",
       "  <thead>\n",
       "    <tr style=\"text-align: right;\">\n",
       "      <th></th>\n",
       "      <th>area_irrigated_pixels</th>\n",
       "      <th>average_amount_mm</th>\n",
       "      <th>weekly_precipitation_mm</th>\n",
       "      <th>tiff_file</th>\n",
       "      <th>start_date</th>\n",
       "      <th>end_date</th>\n",
       "    </tr>\n",
       "  </thead>\n",
       "  <tbody>\n",
       "    <tr>\n",
       "      <th>1</th>\n",
       "      <td>2</td>\n",
       "      <td>5.146973</td>\n",
       "      <td>5.24</td>\n",
       "      <td>NDMI_2019-01-15_to_2019-01-22.tif</td>\n",
       "      <td>2019-01-15</td>\n",
       "      <td>2019-01-22</td>\n",
       "    </tr>\n",
       "    <tr>\n",
       "      <th>2</th>\n",
       "      <td>150</td>\n",
       "      <td>15.401348</td>\n",
       "      <td>3.60</td>\n",
       "      <td>NDMI_2019-02-05_to_2019-02-12.tif</td>\n",
       "      <td>2019-02-05</td>\n",
       "      <td>2019-02-12</td>\n",
       "    </tr>\n",
       "    <tr>\n",
       "      <th>3</th>\n",
       "      <td>214</td>\n",
       "      <td>19.548165</td>\n",
       "      <td>0.57</td>\n",
       "      <td>NDMI_2019-02-12_to_2019-02-19.tif</td>\n",
       "      <td>2019-02-12</td>\n",
       "      <td>2019-02-19</td>\n",
       "    </tr>\n",
       "    <tr>\n",
       "      <th>5</th>\n",
       "      <td>0</td>\n",
       "      <td>0.000000</td>\n",
       "      <td>2.31</td>\n",
       "      <td>NDMI_2019-03-12_to_2019-03-19.tif</td>\n",
       "      <td>2019-03-12</td>\n",
       "      <td>2019-03-19</td>\n",
       "    </tr>\n",
       "    <tr>\n",
       "      <th>6</th>\n",
       "      <td>0</td>\n",
       "      <td>0.000000</td>\n",
       "      <td>0.89</td>\n",
       "      <td>NDMI_2019-03-19_to_2019-03-26.tif</td>\n",
       "      <td>2019-03-19</td>\n",
       "      <td>2019-03-26</td>\n",
       "    </tr>\n",
       "  </tbody>\n",
       "</table>\n",
       "</div>"
      ],
      "text/plain": [
       "   area_irrigated_pixels  average_amount_mm  weekly_precipitation_mm  \\\n",
       "1                      2           5.146973                     5.24   \n",
       "2                    150          15.401348                     3.60   \n",
       "3                    214          19.548165                     0.57   \n",
       "5                      0           0.000000                     2.31   \n",
       "6                      0           0.000000                     0.89   \n",
       "\n",
       "                           tiff_file  start_date    end_date  \n",
       "1  NDMI_2019-01-15_to_2019-01-22.tif  2019-01-15  2019-01-22  \n",
       "2  NDMI_2019-02-05_to_2019-02-12.tif  2019-02-05  2019-02-12  \n",
       "3  NDMI_2019-02-12_to_2019-02-19.tif  2019-02-12  2019-02-19  \n",
       "5  NDMI_2019-03-12_to_2019-03-19.tif  2019-03-12  2019-03-19  \n",
       "6  NDMI_2019-03-19_to_2019-03-26.tif  2019-03-19  2019-03-26  "
      ]
     },
     "execution_count": 7,
     "metadata": {},
     "output_type": "execute_result"
    }
   ],
   "source": [
    "results.head()"
   ]
  },
  {
   "cell_type": "code",
   "execution_count": 8,
   "metadata": {},
   "outputs": [],
   "source": [
    "results.to_csv('data/irrigation_estimates.csv', index=False)"
   ]
  }
 ],
 "metadata": {
  "kernelspec": {
   "display_name": "venv",
   "language": "python",
   "name": "python3"
  },
  "language_info": {
   "codemirror_mode": {
    "name": "ipython",
    "version": 3
   },
   "file_extension": ".py",
   "mimetype": "text/x-python",
   "name": "python",
   "nbconvert_exporter": "python",
   "pygments_lexer": "ipython3",
   "version": "3.12.2"
  }
 },
 "nbformat": 4,
 "nbformat_minor": 2
}
