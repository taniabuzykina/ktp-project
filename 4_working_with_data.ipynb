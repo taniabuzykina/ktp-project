{
 "cells": [
  {
   "cell_type": "markdown",
   "metadata": {
    "vscode": {
     "languageId": "plaintext"
    }
   },
   "source": [
    "Handling missing irrigation data"
   ]
  },
  {
   "cell_type": "markdown",
   "metadata": {},
   "source": [
    "Proxy approach\n",
    "- Calculate NDMI changes between consecutive readings\n",
    "- Set thresholds for significant moisture changes\n",
    "- Identify moisture spikes - check with precipitation levels"
   ]
  },
  {
   "cell_type": "code",
   "execution_count": 1,
   "metadata": {},
   "outputs": [],
   "source": [
    "import rasterio\n",
    "import numpy as np\n",
    "import pandas as pd\n",
    "from datetime import datetime\n",
    "import glob\n",
    "import os\n",
    "\n",
    "# Read all NDMI files in chronological order\n",
    "def read_tif_files(directory_path):\n",
    "    # Get all TIF files\n",
    "    tif_files = glob.glob(os.path.join(directory_path, '*NDMI*.tif'))\n",
    "    \n",
    "    # Extract dates from filenames \n",
    "    dates = [os.path.basename(f).split('_to')[0].strip('NDMI_') for f in tif_files] \n",
    "    \n",
    "    # Sort files by date\n",
    "    sorted_files = sorted(zip(dates, tif_files))\n",
    "    \n",
    "    # Store data in a dictionary\n",
    "    ndmi_data = {}\n",
    "    for date, file in sorted_files:\n",
    "        with rasterio.open(file) as src:\n",
    "            ndmi_data[date] = src.read(1)  # Read the first band\n",
    "            \n",
    "    return ndmi_data, src.meta"
   ]
  },
  {
   "cell_type": "code",
   "execution_count": 2,
   "metadata": {},
   "outputs": [],
   "source": [
    "def calculate_ndmi_changes(ndmi_data):\n",
    "    dates = sorted(ndmi_data.keys())\n",
    "    ndmi_changes = {}\n",
    "    \n",
    "    for i in range(1, len(dates)):\n",
    "        current_date = dates[i]\n",
    "        previous_date = dates[i-1]\n",
    "        \n",
    "        change = ndmi_data[current_date] - ndmi_data[previous_date]\n",
    "        ndmi_changes[current_date] = change\n",
    "    \n",
    "    return ndmi_changes"
   ]
  },
  {
   "cell_type": "code",
   "execution_count": 3,
   "metadata": {},
   "outputs": [],
   "source": [
    "def identify_irrigation_events(ndmi_changes, precipitation_data, threshold=0.1):\n",
    "    irrigation_events = {}\n",
    "    \n",
    "    for date, change in ndmi_changes.items():\n",
    "        # Get precipitation for this date\n",
    "        precip = precipitation_data.get(date, 0)\n",
    "        \n",
    "        # Create a mask for significant positive changes\n",
    "        significant_increase = change > threshold\n",
    "        \n",
    "        if precip < 5:  # Assuming less than 5mm rain is negligible\n",
    "            irrigation_mask = significant_increase\n",
    "            \n",
    "            irrigation_amount = change[irrigation_mask] * 100  # Convert NDMI change to mm of water\n",
    "            \n",
    "            irrigation_events[date] = {\n",
    "                'area_irrigated': np.sum(irrigation_mask),\n",
    "                'average_amount': np.mean(irrigation_amount) if len(irrigation_amount) > 0 else 0\n",
    "            }\n",
    "    \n",
    "    return irrigation_events"
   ]
  },
  {
   "cell_type": "code",
   "execution_count": 4,
   "metadata": {},
   "outputs": [],
   "source": [
    "def analyze_irrigation_patterns(directory_path, weather_csv_path):\n",
    "    # Read weather data\n",
    "    weather_data = pd.read_csv(weather_csv_path, parse_dates=['date'])\n",
    "    weather_dict = weather_data.set_index('date')['precipitation_new'].to_dict()\n",
    "    \n",
    "    # Read NDMI data\n",
    "    ndmi_data, metadata = read_tif_files(directory_path)\n",
    "    \n",
    "    # Calculate NDMI changes\n",
    "    ndmi_changes = calculate_ndmi_changes(ndmi_data)\n",
    "    \n",
    "    # Identify irrigation events\n",
    "    irrigation_events = identify_irrigation_events(ndmi_changes, weather_dict)\n",
    "    \n",
    "    # Convert results to DataFrame for analysis\n",
    "    results_df = pd.DataFrame.from_dict(irrigation_events, orient='index')\n",
    "    \n",
    "    return results_df"
   ]
  },
  {
   "cell_type": "code",
   "execution_count": 6,
   "metadata": {},
   "outputs": [],
   "source": [
    "ndmi_dir = \"data/NDMI_Weekly_Exports/NDMI_Weekly_Exports_2019_2024/\"\n",
    "weather_json = \"weather_data.json\"\n",
    "import pandas as pd\n",
    "df = pd.read_json(weather_json)"
   ]
  },
  {
   "cell_type": "code",
   "execution_count": 8,
   "metadata": {},
   "outputs": [],
   "source": [
    "df['precipitation_new'] = df['precipitation'].apply(lambda x: x['total'])"
   ]
  },
  {
   "cell_type": "code",
   "execution_count": null,
   "metadata": {},
   "outputs": [],
   "source": [
    "def main():\n",
    "    # Replace with your paths\n",
    "    ndmi_directory = \"path/to/ndmi/files\"\n",
    "    weather_file = \"path/to/weather.csv\"\n",
    "    \n",
    "    results = analyze_irrigation_patterns(ndmi_directory, weather_file)\n",
    "    \n",
    "    # Save results\n",
    "    results.to_csv('irrigation_estimates.csv')\n",
    "    \n",
    "    # Basic statistics\n",
    "    print(\"Irrigation Summary Statistics:\")\n",
    "    print(results.describe())\n",
    "    \n",
    "    # Plot temporal pattern\n",
    "    import matplotlib.pyplot as plt\n",
    "    \n",
    "    plt.figure(figsize=(12, 6))\n",
    "    plt.plot(results.index, results['average_amount'], 'b-', label='Estimated Irrigation')\n",
    "    plt.title('Estimated Irrigation Events Over Time')\n",
    "    plt.xlabel('Date')\n",
    "    plt.ylabel('Estimated Irrigation Amount (mm)')\n",
    "    plt.legend()\n",
    "    plt.xticks(rotation=45)\n",
    "    plt.tight_layout()\n",
    "    plt.show()\n",
    "\n",
    "if __name__ == \"__main__\":\n",
    "    main()"
   ]
  }
 ],
 "metadata": {
  "kernelspec": {
   "display_name": "venv",
   "language": "python",
   "name": "python3"
  },
  "language_info": {
   "codemirror_mode": {
    "name": "ipython",
    "version": 3
   },
   "file_extension": ".py",
   "mimetype": "text/x-python",
   "name": "python",
   "nbconvert_exporter": "python",
   "pygments_lexer": "ipython3",
   "version": "3.12.2"
  }
 },
 "nbformat": 4,
 "nbformat_minor": 2
}
