{
 "cells": [
  {
   "cell_type": "code",
   "execution_count": 1,
   "metadata": {},
   "outputs": [],
   "source": [
    "import pandas as pd\n",
    "import os\n",
    "from datetime import datetime\n"
   ]
  },
  {
   "cell_type": "code",
   "execution_count": 2,
   "metadata": {},
   "outputs": [],
   "source": [
    "ndmi_dir = 'data/NDMI_Weekly_Exports/NDMI_Weekly_Exports_2019_2024'"
   ]
  },
  {
   "cell_type": "code",
   "execution_count": 4,
   "metadata": {},
   "outputs": [],
   "source": [
    "df = pd.read_csv('openweathermap_data.csv')\n",
    "df['precipitation_value'] = df['precipitation'].str.extract(r\"'total': ([\\d.]+)\").astype(float)"
   ]
  },
  {
   "cell_type": "code",
   "execution_count": 5,
   "metadata": {},
   "outputs": [],
   "source": [
    "df['date'] = pd.to_datetime(df['date'])"
   ]
  },
  {
   "cell_type": "code",
   "execution_count": 7,
   "metadata": {},
   "outputs": [],
   "source": [
    "def calculate_precipitation_sums(df, tiff_folder):\n",
    "    # Get list of TIFF files\n",
    "    tiff_files = [f for f in os.listdir(tiff_folder) if f.endswith('.tif')]\n",
    "    \n",
    "    results = []\n",
    "    \n",
    "    for tiff_file in tiff_files:\n",
    "        # Extract dates from filename\n",
    "        dates = tiff_file.replace('NDMI_', '').replace('.tif', '').split('_to_')\n",
    "        start_date = datetime.strptime(dates[0], '%Y-%m-%d')\n",
    "        end_date = datetime.strptime(dates[1], '%Y-%m-%d')\n",
    "        \n",
    "        # Get precipitation sum for date range\n",
    "        mask = (df.date >= start_date) & (df.date <= end_date)\n",
    "        precip_sum = df.loc[mask, 'precipitation_value'].sum()\n",
    "        \n",
    "        results.append({\n",
    "            'tiff_file': tiff_file,\n",
    "            'start_date': start_date,\n",
    "            'end_date': end_date,\n",
    "            'precipitation_sum': precip_sum\n",
    "        })\n",
    "    \n",
    "    # Create new dataframe with results\n",
    "    result_df = pd.DataFrame(results)\n",
    "    return result_df"
   ]
  },
  {
   "cell_type": "code",
   "execution_count": 9,
   "metadata": {},
   "outputs": [],
   "source": [
    "result_df = calculate_precipitation_sums(df, ndmi_dir)\n",
    "result_df.to_csv('precipitation_sums.csv', index=False)"
   ]
  }
 ],
 "metadata": {
  "kernelspec": {
   "display_name": "venv",
   "language": "python",
   "name": "python3"
  },
  "language_info": {
   "codemirror_mode": {
    "name": "ipython",
    "version": 3
   },
   "file_extension": ".py",
   "mimetype": "text/x-python",
   "name": "python",
   "nbconvert_exporter": "python",
   "pygments_lexer": "ipython3",
   "version": "3.12.2"
  }
 },
 "nbformat": 4,
 "nbformat_minor": 2
}
